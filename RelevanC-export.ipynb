{
 "cells": [
  {
   "cell_type": "code",
   "execution_count": 5,
   "metadata": {},
   "outputs": [],
   "source": [
    "### Add IRI classification to RelevanC data\n",
    "\n",
    "import pandas as pd\n",
    "import s3fs\n",
    "fs = s3fs.S3FileSystem(client_kwargs={'endpoint_url': 'http://minio.stable.innovation.insee.eu'})"
   ]
  },
  {
   "cell_type": "code",
   "execution_count": 7,
   "metadata": {},
   "outputs": [
    {
     "data": {
      "text/plain": [
       "0               9426317\n",
       "1         3041090050114\n",
       "2         3371010174744\n",
       "3         3470410134546\n",
       "4         3533630060221\n",
       "              ...      \n",
       "565558    3830067420506\n",
       "565559    3760077985507\n",
       "565560    5060307410938\n",
       "565564    3830067420070\n",
       "565565    3266980197469\n",
       "Name: code_ean, Length: 521050, dtype: int64"
      ]
     },
     "execution_count": 7,
     "metadata": {},
     "output_type": "execute_result"
    }
   ],
   "source": [
    "with open('product_sample.csv') as f:\n",
    "    data_product = pd.read_csv(f)\n",
    "\n",
    "data_product.dropna(inplace=True)    \n",
    "data_product.code_ean.astype(int)"
   ]
  },
  {
   "cell_type": "code",
   "execution_count": 8,
   "metadata": {},
   "outputs": [],
   "source": [
    "def lire_csv(file):\n",
    "    with fs.open(file,'r',encoding='latin1') as f:\n",
    "        data = pd.read_csv(f,delimiter=';',usecols=usecols)\n",
    "    return(data)\n",
    "\n",
    "list_fichiers=fs.ls('s3://groupe-1002/data/ref_art/20200118/')\n",
    "usecols = ['DESCRIPTION FAMILLE','DESCRIPTION EAN','EAN']"
   ]
  },
  {
   "cell_type": "code",
   "execution_count": 11,
   "metadata": {},
   "outputs": [
    {
     "name": "stdout",
     "output_type": "stream",
     "text": [
      "10\n",
      "20\n",
      "30\n",
      "40\n",
      "50\n",
      "60\n",
      "70\n",
      "80\n",
      "90\n",
      "100\n",
      "110\n",
      "120\n",
      "130\n",
      "140\n",
      "150\n",
      "160\n",
      "170\n",
      "180\n",
      "190\n",
      "200\n",
      "210\n",
      "220\n",
      "230\n",
      "240\n",
      "250\n",
      "260\n",
      "270\n",
      "280\n",
      "290\n",
      "300\n",
      "310\n",
      "320\n",
      "330\n",
      "340\n",
      "350\n",
      "360\n",
      "370\n",
      "380\n",
      "390\n",
      "400\n",
      "410\n",
      "420\n",
      "430\n",
      "440\n",
      "450\n",
      "460\n",
      "470\n",
      "480\n",
      "490\n",
      "500\n",
      "510\n",
      "520\n",
      "530\n",
      "540\n",
      "550\n",
      "560\n",
      "570\n",
      "580\n",
      "590\n",
      "600\n",
      "610\n",
      "620\n",
      "630\n",
      "640\n",
      "650\n",
      "660\n",
      "670\n",
      "680\n",
      "690\n",
      "700\n",
      "710\n",
      "720\n",
      "730\n",
      "740\n",
      "750\n",
      "760\n",
      "770\n"
     ]
    }
   ],
   "source": [
    "data_fin = data_product\n",
    "i = 0\n",
    "for file in list_fichiers:\n",
    "    i+=1\n",
    "    if i % 10 == 0:\n",
    "        print(i)\n",
    "    data_iri = lire_csv(file)\n",
    "    data_iri.EAN.astype(int)\n",
    "    data_fin = pd.merge(data_fin, data_iri, left_on='code_ean', right_on='EAN', how='left')\n",
    "    data_fin.loc[data_fin['DESCRIPTION FAMILLE'].notna(),'FAMILLE'] = data_fin.loc[data_fin['DESCRIPTION FAMILLE'].notna(),'DESCRIPTION FAMILLE']\n",
    "    data_fin = data_fin[['code_ean','LIBELLE','FAMILLE']]"
   ]
  },
  {
   "cell_type": "code",
   "execution_count": 15,
   "metadata": {},
   "outputs": [
    {
     "data": {
      "text/plain": [
       "(509153, 3)"
      ]
     },
     "execution_count": 15,
     "metadata": {},
     "output_type": "execute_result"
    }
   ],
   "source": [
    "data_fin.shape\n",
    "data_fin.isna().sum()\n",
    "data_fin.dropna(inplace=True)\n",
    "data_fin.shape"
   ]
  },
  {
   "cell_type": "code",
   "execution_count": 30,
   "metadata": {},
   "outputs": [],
   "source": [
    "replace_values = {'MONOPRIX' : '__ENSEIGNE___', 'MONOP' : '__ENSEIGNE__',\n",
    "                      'MGOURMET' : '__ENSEIGNE__', 'CASINO' : '__ENSEIGNE__',\n",
    "                      'FRANPRIX' : '__ENSEIGNE__'} \n",
    "data_fin.replace({'LIBELLE': replace_values},regex=True,inplace=True)\n",
    "\n",
    "from sklearn.model_selection import train_test_split\n",
    "train_data, test_data = train_test_split(data_fin, train_size=100000)\n",
    "data = train_data[['LIBELLE','FAMILLE']]"
   ]
  },
  {
   "cell_type": "code",
   "execution_count": 33,
   "metadata": {},
   "outputs": [],
   "source": [
    "\n",
    "data.to_csv('out.csv',index=False)"
   ]
  },
  {
   "cell_type": "code",
   "execution_count": 32,
   "metadata": {},
   "outputs": [
    {
     "data": {
      "text/html": [
       "<div>\n",
       "<style scoped>\n",
       "    .dataframe tbody tr th:only-of-type {\n",
       "        vertical-align: middle;\n",
       "    }\n",
       "\n",
       "    .dataframe tbody tr th {\n",
       "        vertical-align: top;\n",
       "    }\n",
       "\n",
       "    .dataframe thead th {\n",
       "        text-align: right;\n",
       "    }\n",
       "</style>\n",
       "<table border=\"1\" class=\"dataframe\">\n",
       "  <thead>\n",
       "    <tr style=\"text-align: right;\">\n",
       "      <th></th>\n",
       "      <th>LIBELLE</th>\n",
       "      <th>FAMILLE</th>\n",
       "    </tr>\n",
       "  </thead>\n",
       "  <tbody>\n",
       "    <tr>\n",
       "      <th>421570</th>\n",
       "      <td>X3 BODY US ML ICONIQUE</td>\n",
       "      <td>LAYETTE BEBE</td>\n",
       "    </tr>\n",
       "    <tr>\n",
       "      <th>221779</th>\n",
       "      <td>6TR.LE TRANCHé FIN BOEUF+1TR G</td>\n",
       "      <td>JAMBON CUIT AU R FR</td>\n",
       "    </tr>\n",
       "    <tr>\n",
       "      <th>414986</th>\n",
       "      <td>RIGATONI 500G N 19</td>\n",
       "      <td>PATES ALIMENTAIRES</td>\n",
       "    </tr>\n",
       "    <tr>\n",
       "      <th>441312</th>\n",
       "      <td>BALLERINE BICOLORE</td>\n",
       "      <td>CHAUSSURE</td>\n",
       "    </tr>\n",
       "    <tr>\n",
       "      <th>225714</th>\n",
       "      <td>CHEM CRX FOR P       840 5A</td>\n",
       "      <td>CONFECTION ENFANT</td>\n",
       "    </tr>\n",
       "  </tbody>\n",
       "</table>\n",
       "</div>"
      ],
      "text/plain": [
       "                               LIBELLE              FAMILLE\n",
       "421570          X3 BODY US ML ICONIQUE         LAYETTE BEBE\n",
       "221779  6TR.LE TRANCHé FIN BOEUF+1TR G  JAMBON CUIT AU R FR\n",
       "414986              RIGATONI 500G N 19   PATES ALIMENTAIRES\n",
       "441312              BALLERINE BICOLORE            CHAUSSURE\n",
       "225714     CHEM CRX FOR P       840 5A    CONFECTION ENFANT"
      ]
     },
     "execution_count": 32,
     "metadata": {},
     "output_type": "execute_result"
    }
   ],
   "source": [
    "data.head()"
   ]
  },
  {
   "cell_type": "code",
   "execution_count": null,
   "metadata": {},
   "outputs": [],
   "source": []
  }
 ],
 "metadata": {
  "kernelspec": {
   "display_name": "Python 3",
   "language": "python",
   "name": "python3"
  },
  "language_info": {
   "codemirror_mode": {
    "name": "ipython",
    "version": 3
   },
   "file_extension": ".py",
   "mimetype": "text/x-python",
   "name": "python",
   "nbconvert_exporter": "python",
   "pygments_lexer": "ipython3",
   "version": "3.7.3"
  }
 },
 "nbformat": 4,
 "nbformat_minor": 4
}
